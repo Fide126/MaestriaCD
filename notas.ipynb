{
 "cells": [
  {
   "cell_type": "code",
   "execution_count": 19,
   "id": "2a51df1b",
   "metadata": {},
   "outputs": [],
   "source": [
    "numero= 10\n"
   ]
  },
  {
   "cell_type": "code",
   "execution_count": 20,
   "id": "6d19fb10",
   "metadata": {},
   "outputs": [
    {
     "data": {
      "text/plain": [
       "10"
      ]
     },
     "execution_count": 20,
     "metadata": {},
     "output_type": "execute_result"
    }
   ],
   "source": [
    "numero"
   ]
  },
  {
   "cell_type": "code",
   "execution_count": 21,
   "id": "e4bf64d8",
   "metadata": {},
   "outputs": [
    {
     "data": {
      "text/html": [
       "<div>\n",
       "<style scoped>\n",
       "    .dataframe tbody tr th:only-of-type {\n",
       "        vertical-align: middle;\n",
       "    }\n",
       "\n",
       "    .dataframe tbody tr th {\n",
       "        vertical-align: top;\n",
       "    }\n",
       "\n",
       "    .dataframe thead th {\n",
       "        text-align: right;\n",
       "    }\n",
       "</style>\n",
       "<table border=\"1\" class=\"dataframe\">\n",
       "  <thead>\n",
       "    <tr style=\"text-align: right;\">\n",
       "      <th></th>\n",
       "      <th>Manzana</th>\n",
       "      <th>Pera</th>\n",
       "    </tr>\n",
       "  </thead>\n",
       "  <tbody>\n",
       "    <tr>\n",
       "      <th>juan</th>\n",
       "      <td>3</td>\n",
       "      <td>1</td>\n",
       "    </tr>\n",
       "    <tr>\n",
       "      <th>pedro</th>\n",
       "      <td>6</td>\n",
       "      <td>2</td>\n",
       "    </tr>\n",
       "  </tbody>\n",
       "</table>\n",
       "</div>"
      ],
      "text/plain": [
       "       Manzana  Pera\n",
       "juan         3     1\n",
       "pedro        6     2"
      ]
     },
     "execution_count": 21,
     "metadata": {},
     "output_type": "execute_result"
    }
   ],
   "source": [
    "import pandas as pd\n",
    "datos= pd.DataFrame({\"Manzana\": [3 , 6], \"Pera\": [1 , 2]}, index= [\"juan\" , \"pedro\"])\n",
    "datos"
   ]
  },
  {
   "cell_type": "code",
   "execution_count": 22,
   "id": "e3146d44",
   "metadata": {},
   "outputs": [
    {
     "data": {
      "text/plain": [
       "Text(0.5, 1.0, 'inventario por persona')"
      ]
     },
     "execution_count": 22,
     "metadata": {},
     "output_type": "execute_result"
    },
    {
     "data": {
      "image/png": "[encoded data removed]",
      "text/plain": [
       "<Figure size 640x480 with 1 Axes>"
      ]
     },
     "metadata": {},
     "output_type": "display_data"
    }
   ],
   "source": [
    "import matplotlib.pyplot as plt\n",
    "datos.plot.bar()\n",
    "plt.title(\"inventario por persona\")"
   ]
  },
  {
   "cell_type": "code",
   "execution_count": 24,
   "id": "c78c24fa",
   "metadata": {},
   "outputs": [
    {
     "name": "stdout",
     "output_type": "stream",
     "text": [
      "     Sale_ID  Customer_ID  Sale_Amount   Sale_Date Geography\n",
      "0          1           38        31.11  2023-05-03      West\n",
      "1          2           18       191.54  2023-03-06     South\n",
      "2          3          197       283.74  2023-06-23      East\n",
      "3          4          185       367.13  2023-02-09     South\n",
      "4          5          171       188.52  2023-12-25     South\n",
      "..       ...          ...          ...         ...       ...\n",
      "995      996          181        74.20  2023-08-26      East\n",
      "996      997          157       215.66  2023-05-07      West\n",
      "997      998          273       266.32  2023-01-14      West\n",
      "998      999           43       252.43  2023-06-17     South\n",
      "999     1000          291        23.16  2023-04-10     South\n",
      "\n",
      "[1000 rows x 5 columns]\n"
     ]
    }
   ],
   "source": [
    "ventas_df = pd.read_csv(\"sales_data_2023.csv\")\n",
    "print(ventas_df)\n"
   ]
  }
 ],
 "metadata": {
  "kernelspec": {
   "display_name": ".venv",
   "language": "python",
   "name": "python3"
  },
  "language_info": {
   "codemirror_mode": {
    "name": "ipython",
    "version": 3
   },
   "file_extension": ".py",
   "mimetype": "text/x-python",
   "name": "python",
   "nbconvert_exporter": "python",
   "pygments_lexer": "ipython3",
   "version": "3.12.10"
  }
 },
 "nbformat": 4,
 "nbformat_minor": 5
}
