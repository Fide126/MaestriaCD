{
 "cells": [
  {
   "cell_type": "code",
   "execution_count": 2,
   "id": "39dde9e3",
   "metadata": {},
   "outputs": [],
   "source": [
    "\n",
    "# Paso 1: Importar librerías\n",
    "import pandas as pd\n",
    "import seaborn as sns\n",
    "import matplotlib.pyplot as plt\n"
   ]
  },
  {
   "cell_type": "code",
   "execution_count": 3,
   "id": "c4c9cb69",
   "metadata": {},
   "outputs": [],
   "source": [
    "\n",
    "# Paso 2: Cargar archivos CSV\n",
    "ventas = pd.read_csv(\"sales_data_2023.csv\")\n",
    "clientes = pd.read_csv(\"customer_data_2023.csv\")\n"
   ]
  },
  {
   "cell_type": "code",
   "execution_count": 4,
   "id": "c84f1aca",
   "metadata": {},
   "outputs": [
    {
     "name": "stdout",
     "output_type": "stream",
     "text": [
      "Ventas:\n",
      "   Sale_ID  Customer_ID  Sale_Amount   Sale_Date Geography\n",
      "0        1           38        31.11  2023-05-03      West\n",
      "1        2           18       191.54  2023-03-06     South\n",
      "2        3          197       283.74  2023-06-23      East\n",
      "3        4          185       367.13  2023-02-09     South\n",
      "4        5          171       188.52  2023-12-25     South\n",
      "\n",
      "Clientes:\n",
      "   Customer_ID Customer_Name  Customer_Age Geography\n",
      "0            1    Customer_1            20      West\n",
      "1            2    Customer_2            69     North\n",
      "2            3    Customer_3            57      West\n",
      "3            4    Customer_4            66      East\n",
      "4            5    Customer_5            59     South\n"
     ]
    }
   ],
   "source": [
    "\n",
    "# Paso 3: Inspección inicial\n",
    "print(\"Ventas:\")\n",
    "print(ventas.head())\n",
    "print(\"\\nClientes:\")\n",
    "print(clientes.head())\n"
   ]
  },
  {
   "cell_type": "code",
   "execution_count": 5,
   "id": "40cfb714",
   "metadata": {},
   "outputs": [
    {
     "name": "stdout",
     "output_type": "stream",
     "text": [
      "\n",
      "Columnas de ventas: Index(['Sale_ID', 'Customer_ID', 'Sale_Amount', 'Sale_Date', 'Geography'], dtype='object')\n",
      "Columnas de clientes: Index(['Customer_ID', 'Customer_Name', 'Customer_Age', 'Geography'], dtype='object')\n",
      "\n",
      "Tipos de datos de ventas:\n",
      " Sale_ID          int64\n",
      "Customer_ID      int64\n",
      "Sale_Amount    float64\n",
      "Sale_Date       object\n",
      "Geography       object\n",
      "dtype: object\n",
      "\n",
      "Tipos de datos de clientes:\n",
      " Customer_ID       int64\n",
      "Customer_Name    object\n",
      "Customer_Age      int64\n",
      "Geography        object\n",
      "dtype: object\n",
      "\n",
      "Valores nulos en ventas:\n",
      " Sale_ID        0\n",
      "Customer_ID    0\n",
      "Sale_Amount    0\n",
      "Sale_Date      0\n",
      "Geography      0\n",
      "dtype: int64\n",
      "\n",
      "Valores nulos en clientes:\n",
      " Customer_ID      0\n",
      "Customer_Name    0\n",
      "Customer_Age     0\n",
      "Geography        0\n",
      "dtype: int64\n"
     ]
    }
   ],
   "source": [
    "\n",
    "# Paso 4: Verificar estructura de datos\n",
    "print(\"\\nColumnas de ventas:\", ventas.columns)\n",
    "print(\"Columnas de clientes:\", clientes.columns)\n",
    "\n",
    "print(\"\\nTipos de datos de ventas:\\n\", ventas.dtypes)\n",
    "print(\"\\nTipos de datos de clientes:\\n\", clientes.dtypes)\n",
    "\n",
    "print(\"\\nValores nulos en ventas:\\n\", ventas.isnull().sum())\n",
    "print(\"\\nValores nulos en clientes:\\n\", clientes.isnull().sum())\n"
   ]
  },
  {
   "cell_type": "code",
   "execution_count": 6,
   "id": "1b4a3127",
   "metadata": {},
   "outputs": [],
   "source": [
    "\n",
    "# Paso 5: Convertir fechas\n",
    "ventas[\"Sale_Date\"] = pd.to_datetime(ventas[\"Sale_Date\"])\n"
   ]
  },
  {
   "cell_type": "code",
   "execution_count": 7,
   "id": "72c1a45c",
   "metadata": {},
   "outputs": [],
   "source": [
    "\n",
    "# Paso 6: Rellenar valores nulos si es necesario\n",
    "ventas[\"Sale_Amount\"] = ventas[\"Sale_Amount\"].fillna(ventas[\"Sale_Amount\"].mean())\n",
    "clientes[\"Geography\"] = clientes[\"Geography\"].fillna(\"Desconocido\")\n"
   ]
  },
  {
   "cell_type": "code",
   "execution_count": 8,
   "id": "a093b8b7",
   "metadata": {},
   "outputs": [],
   "source": [
    "\n",
    "# Paso 7: Unir las tablas\n",
    "df_completo = pd.merge(ventas, clientes, on=\"Customer_ID\", how=\"left\")\n"
   ]
  },
  {
   "cell_type": "code",
   "execution_count": 9,
   "id": "c141c0be",
   "metadata": {},
   "outputs": [],
   "source": [
    "\n",
    "# Paso 8: Crear columna de mes\n",
    "df_completo[\"Mes\"] = df_completo[\"Sale_Date\"].dt.to_period(\"M\")\n"
   ]
  },
  {
   "cell_type": "code",
   "execution_count": 10,
   "id": "3f08eca2",
   "metadata": {},
   "outputs": [
    {
     "ename": "KeyError",
     "evalue": "'Geography'",
     "output_type": "error",
     "traceback": [
      "\u001b[31m---------------------------------------------------------------------------\u001b[39m",
      "\u001b[31mKeyError\u001b[39m                                  Traceback (most recent call last)",
      "\u001b[36mCell\u001b[39m\u001b[36m \u001b[39m\u001b[32mIn[10]\u001b[39m\u001b[32m, line 2\u001b[39m\n\u001b[32m      1\u001b[39m \u001b[38;5;66;03m# Paso 9: Agrupar ventas mensuales por región\u001b[39;00m\n\u001b[32m----> \u001b[39m\u001b[32m2\u001b[39m ventas_por_region = \u001b[43mdf_completo\u001b[49m\u001b[43m.\u001b[49m\u001b[43mgroupby\u001b[49m\u001b[43m(\u001b[49m\u001b[43m[\u001b[49m\u001b[33;43m\"\u001b[39;49m\u001b[33;43mMes\u001b[39;49m\u001b[33;43m\"\u001b[39;49m\u001b[43m,\u001b[49m\u001b[43m \u001b[49m\u001b[33;43m\"\u001b[39;49m\u001b[33;43mGeography\u001b[39;49m\u001b[33;43m\"\u001b[39;49m\u001b[43m]\u001b[49m\u001b[43m)\u001b[49m[\u001b[33m\"\u001b[39m\u001b[33mSale_Amount\u001b[39m\u001b[33m\"\u001b[39m].sum().reset_index()\n\u001b[32m      4\u001b[39m \u001b[38;5;66;03m# Paso 10: Mostrar tabla resumen\u001b[39;00m\n\u001b[32m      5\u001b[39m \u001b[38;5;28mprint\u001b[39m(\u001b[33m\"\u001b[39m\u001b[38;5;130;01m\\n\u001b[39;00m\u001b[33mVentas mensuales por región:\u001b[39m\u001b[33m\"\u001b[39m)\n",
      "\u001b[36mFile \u001b[39m\u001b[32mc:\\Users\\FIDEL\\Documents\\GitHub\\MaestriaCD\\.venv\\Lib\\site-packages\\pandas\\core\\frame.py:9190\u001b[39m, in \u001b[36mDataFrame.groupby\u001b[39m\u001b[34m(self, by, axis, level, as_index, sort, group_keys, observed, dropna)\u001b[39m\n\u001b[32m   9187\u001b[39m \u001b[38;5;28;01mif\u001b[39;00m level \u001b[38;5;129;01mis\u001b[39;00m \u001b[38;5;28;01mNone\u001b[39;00m \u001b[38;5;129;01mand\u001b[39;00m by \u001b[38;5;129;01mis\u001b[39;00m \u001b[38;5;28;01mNone\u001b[39;00m:\n\u001b[32m   9188\u001b[39m     \u001b[38;5;28;01mraise\u001b[39;00m \u001b[38;5;167;01mTypeError\u001b[39;00m(\u001b[33m\"\u001b[39m\u001b[33mYou have to supply one of \u001b[39m\u001b[33m'\u001b[39m\u001b[33mby\u001b[39m\u001b[33m'\u001b[39m\u001b[33m and \u001b[39m\u001b[33m'\u001b[39m\u001b[33mlevel\u001b[39m\u001b[33m'\u001b[39m\u001b[33m\"\u001b[39m)\n\u001b[32m-> \u001b[39m\u001b[32m9190\u001b[39m \u001b[38;5;28;01mreturn\u001b[39;00m \u001b[43mDataFrameGroupBy\u001b[49m\u001b[43m(\u001b[49m\n\u001b[32m   9191\u001b[39m \u001b[43m    \u001b[49m\u001b[43mobj\u001b[49m\u001b[43m=\u001b[49m\u001b[38;5;28;43mself\u001b[39;49m\u001b[43m,\u001b[49m\n\u001b[32m   9192\u001b[39m \u001b[43m    \u001b[49m\u001b[43mkeys\u001b[49m\u001b[43m=\u001b[49m\u001b[43mby\u001b[49m\u001b[43m,\u001b[49m\n\u001b[32m   9193\u001b[39m \u001b[43m    \u001b[49m\u001b[43maxis\u001b[49m\u001b[43m=\u001b[49m\u001b[43maxis\u001b[49m\u001b[43m,\u001b[49m\n\u001b[32m   9194\u001b[39m \u001b[43m    \u001b[49m\u001b[43mlevel\u001b[49m\u001b[43m=\u001b[49m\u001b[43mlevel\u001b[49m\u001b[43m,\u001b[49m\n\u001b[32m   9195\u001b[39m \u001b[43m    \u001b[49m\u001b[43mas_index\u001b[49m\u001b[43m=\u001b[49m\u001b[43mas_index\u001b[49m\u001b[43m,\u001b[49m\n\u001b[32m   9196\u001b[39m \u001b[43m    \u001b[49m\u001b[43msort\u001b[49m\u001b[43m=\u001b[49m\u001b[43msort\u001b[49m\u001b[43m,\u001b[49m\n\u001b[32m   9197\u001b[39m \u001b[43m    \u001b[49m\u001b[43mgroup_keys\u001b[49m\u001b[43m=\u001b[49m\u001b[43mgroup_keys\u001b[49m\u001b[43m,\u001b[49m\n\u001b[32m   9198\u001b[39m \u001b[43m    \u001b[49m\u001b[43mobserved\u001b[49m\u001b[43m=\u001b[49m\u001b[43mobserved\u001b[49m\u001b[43m,\u001b[49m\n\u001b[32m   9199\u001b[39m \u001b[43m    \u001b[49m\u001b[43mdropna\u001b[49m\u001b[43m=\u001b[49m\u001b[43mdropna\u001b[49m\u001b[43m,\u001b[49m\n\u001b[32m   9200\u001b[39m \u001b[43m\u001b[49m\u001b[43m)\u001b[49m\n",
      "\u001b[36mFile \u001b[39m\u001b[32mc:\\Users\\FIDEL\\Documents\\GitHub\\MaestriaCD\\.venv\\Lib\\site-packages\\pandas\\core\\groupby\\groupby.py:1330\u001b[39m, in \u001b[36mGroupBy.__init__\u001b[39m\u001b[34m(self, obj, keys, axis, level, grouper, exclusions, selection, as_index, sort, group_keys, observed, dropna)\u001b[39m\n\u001b[32m   1327\u001b[39m \u001b[38;5;28mself\u001b[39m.dropna = dropna\n\u001b[32m   1329\u001b[39m \u001b[38;5;28;01mif\u001b[39;00m grouper \u001b[38;5;129;01mis\u001b[39;00m \u001b[38;5;28;01mNone\u001b[39;00m:\n\u001b[32m-> \u001b[39m\u001b[32m1330\u001b[39m     grouper, exclusions, obj = \u001b[43mget_grouper\u001b[49m\u001b[43m(\u001b[49m\n\u001b[32m   1331\u001b[39m \u001b[43m        \u001b[49m\u001b[43mobj\u001b[49m\u001b[43m,\u001b[49m\n\u001b[32m   1332\u001b[39m \u001b[43m        \u001b[49m\u001b[43mkeys\u001b[49m\u001b[43m,\u001b[49m\n\u001b[32m   1333\u001b[39m \u001b[43m        \u001b[49m\u001b[43maxis\u001b[49m\u001b[43m=\u001b[49m\u001b[43maxis\u001b[49m\u001b[43m,\u001b[49m\n\u001b[32m   1334\u001b[39m \u001b[43m        \u001b[49m\u001b[43mlevel\u001b[49m\u001b[43m=\u001b[49m\u001b[43mlevel\u001b[49m\u001b[43m,\u001b[49m\n\u001b[32m   1335\u001b[39m \u001b[43m        \u001b[49m\u001b[43msort\u001b[49m\u001b[43m=\u001b[49m\u001b[43msort\u001b[49m\u001b[43m,\u001b[49m\n\u001b[32m   1336\u001b[39m \u001b[43m        \u001b[49m\u001b[43mobserved\u001b[49m\u001b[43m=\u001b[49m\u001b[38;5;28;43;01mFalse\u001b[39;49;00m\u001b[43m \u001b[49m\u001b[38;5;28;43;01mif\u001b[39;49;00m\u001b[43m \u001b[49m\u001b[43mobserved\u001b[49m\u001b[43m \u001b[49m\u001b[38;5;129;43;01mis\u001b[39;49;00m\u001b[43m \u001b[49m\u001b[43mlib\u001b[49m\u001b[43m.\u001b[49m\u001b[43mno_default\u001b[49m\u001b[43m \u001b[49m\u001b[38;5;28;43;01melse\u001b[39;49;00m\u001b[43m \u001b[49m\u001b[43mobserved\u001b[49m\u001b[43m,\u001b[49m\n\u001b[32m   1337\u001b[39m \u001b[43m        \u001b[49m\u001b[43mdropna\u001b[49m\u001b[43m=\u001b[49m\u001b[38;5;28;43mself\u001b[39;49m\u001b[43m.\u001b[49m\u001b[43mdropna\u001b[49m\u001b[43m,\u001b[49m\n\u001b[32m   1338\u001b[39m \u001b[43m    \u001b[49m\u001b[43m)\u001b[49m\n\u001b[32m   1340\u001b[39m \u001b[38;5;28;01mif\u001b[39;00m observed \u001b[38;5;129;01mis\u001b[39;00m lib.no_default:\n\u001b[32m   1341\u001b[39m     \u001b[38;5;28;01mif\u001b[39;00m \u001b[38;5;28many\u001b[39m(ping._passed_categorical \u001b[38;5;28;01mfor\u001b[39;00m ping \u001b[38;5;129;01min\u001b[39;00m grouper.groupings):\n",
      "\u001b[36mFile \u001b[39m\u001b[32mc:\\Users\\FIDEL\\Documents\\GitHub\\MaestriaCD\\.venv\\Lib\\site-packages\\pandas\\core\\groupby\\grouper.py:1043\u001b[39m, in \u001b[36mget_grouper\u001b[39m\u001b[34m(obj, key, axis, level, sort, observed, validate, dropna)\u001b[39m\n\u001b[32m   1041\u001b[39m         in_axis, level, gpr = \u001b[38;5;28;01mFalse\u001b[39;00m, gpr, \u001b[38;5;28;01mNone\u001b[39;00m\n\u001b[32m   1042\u001b[39m     \u001b[38;5;28;01melse\u001b[39;00m:\n\u001b[32m-> \u001b[39m\u001b[32m1043\u001b[39m         \u001b[38;5;28;01mraise\u001b[39;00m \u001b[38;5;167;01mKeyError\u001b[39;00m(gpr)\n\u001b[32m   1044\u001b[39m \u001b[38;5;28;01melif\u001b[39;00m \u001b[38;5;28misinstance\u001b[39m(gpr, Grouper) \u001b[38;5;129;01mand\u001b[39;00m gpr.key \u001b[38;5;129;01mis\u001b[39;00m \u001b[38;5;129;01mnot\u001b[39;00m \u001b[38;5;28;01mNone\u001b[39;00m:\n\u001b[32m   1045\u001b[39m     \u001b[38;5;66;03m# Add key to exclusions\u001b[39;00m\n\u001b[32m   1046\u001b[39m     exclusions.add(gpr.key)\n",
      "\u001b[31mKeyError\u001b[39m: 'Geography'"
     ]
    }
   ],
   "source": [
    "\n",
    "# Paso 9: Agrupar ventas mensuales por región\n",
    "ventas_por_region = df_completo.groupby([\"Mes\", \"Geography\"])[\"Sale_Amount\"].sum().reset_index()\n",
    "\n",
    "# Paso 10: Mostrar tabla resumen\n",
    "print(\"\\nVentas mensuales por región:\")\n",
    "print(ventas_por_region.head())\n"
   ]
  },
  {
   "cell_type": "code",
   "execution_count": null,
   "id": "67f83982",
   "metadata": {},
   "outputs": [
    {
     "ename": "NameError",
     "evalue": "name 'plt' is not defined",
     "output_type": "error",
     "traceback": [
      "\u001b[31m---------------------------------------------------------------------------\u001b[39m",
      "\u001b[31mNameError\u001b[39m                                 Traceback (most recent call last)",
      "\u001b[36mCell\u001b[39m\u001b[36m \u001b[39m\u001b[32mIn[1]\u001b[39m\u001b[32m, line 2\u001b[39m\n\u001b[32m      1\u001b[39m \u001b[38;5;66;03m# Paso 11 (opcional): Visualizar con gráfico\u001b[39;00m\n\u001b[32m----> \u001b[39m\u001b[32m2\u001b[39m \u001b[43mplt\u001b[49m.figure(figsize=(\u001b[32m12\u001b[39m,\u001b[32m6\u001b[39m))\n\u001b[32m      3\u001b[39m sns.lineplot(data=ventas_por_region, x=\u001b[33m\"\u001b[39m\u001b[33mMes\u001b[39m\u001b[33m\"\u001b[39m, y=\u001b[33m\"\u001b[39m\u001b[33mSale_Amount\u001b[39m\u001b[33m\"\u001b[39m, hue=\u001b[33m\"\u001b[39m\u001b[33mGeography\u001b[39m\u001b[33m\"\u001b[39m, marker=\u001b[33m\"\u001b[39m\u001b[33mo\u001b[39m\u001b[33m\"\u001b[39m)\n\u001b[32m      4\u001b[39m plt.title(\u001b[33m\"\u001b[39m\u001b[33mVentas Mensuales por Región Geográfica\u001b[39m\u001b[33m\"\u001b[39m)\n",
      "\u001b[31mNameError\u001b[39m: name 'plt' is not defined"
     ]
    }
   ],
   "source": [
    "\n",
    "# Paso 11 (opcional): Visualizar con gráfico\n",
    "plt.figure(figsize=(12,6))\n",
    "sns.lineplot(data=ventas_por_region, x=\"Mes\", y=\"Sale_Amount\", hue=\"Geography\", marker=\"o\")\n",
    "plt.title(\"Ventas Mensuales por Región Geográfica\")\n",
    "plt.ylabel(\"Monto de Venta\")\n",
    "plt.xlabel(\"Mes\")\n",
    "plt.xticks(rotation=45)\n",
    "plt.tight_layout()\n",
    "plt.show()\n"
   ]
  }
 ],
 "metadata": {
  "kernelspec": {
   "display_name": ".venv",
   "language": "python",
   "name": "python3"
  },
  "language_info": {
   "codemirror_mode": {
    "name": "ipython",
    "version": 3
   },
   "file_extension": ".py",
   "mimetype": "text/x-python",
   "name": "python",
   "nbconvert_exporter": "python",
   "pygments_lexer": "ipython3",
   "version": "3.12.10"
  }
 },
 "nbformat": 4,
 "nbformat_minor": 5
}
