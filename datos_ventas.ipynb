{
 "cells": [
  {
   "cell_type": "code",
   "execution_count": null,
   "id": "1eaf98b4",
   "metadata": {},
   "outputs": [
    {
     "name": "stdout",
     "output_type": "stream",
     "text": [
      "Ventas: \n",
      "   Sale_ID  Customer_ID  Sale_Amount   Sale_Date Geography\n",
      "0        1           38        31.11  2023-05-03      West\n",
      "1        2           18       191.54  2023-03-06     South\n",
      "2        3          197       283.74  2023-06-23      East\n",
      "3        4          185       367.13  2023-02-09     South\n",
      "4        5          171       188.52  2023-12-25     South\n",
      "Clientes: \n",
      "   Customer_ID Customer_Name  Customer_Age Geography\n",
      "0            1    Customer_1            20      West\n",
      "1            2    Customer_2            69     North\n",
      "2            3    Customer_3            57      West\n",
      "3            4    Customer_4            66      East\n",
      "4            5    Customer_5            59     South\n"
     ]
    }
   ],
   "source": [
    "\n",
    "#importar libreria que vamos a usar para leer archivo y manipular\n",
    "import pandas as pd #manipulacion de datos\n",
    "import matplotlib.pyplot as plt  #permite controlar el tamaño del grafico, etiquetas ,eyendas etc\n",
    "import seaborn as sns  #para crear graficos\n",
    "\n",
    "#cargar archivos csv\n",
    "ventas = pd.read_csv(\"sales_data_2023.csv\")\n",
    "clientes = pd.read_csv(\"customer_data_2023.csv\")\n",
    "\n",
    "#Mostrar las primeras 6 filas para verfiicar que estan bien leidos los archivos csv y analisis rapido\n",
    "print(\"Ventas: \")\n",
    "print(ventas.head())\n",
    "print(\"Clientes: \")\n",
    "print(clientes.head())\n"
   ]
  },
  {
   "cell_type": "markdown",
   "id": "ff72a484",
   "metadata": {},
   "source": [
    "para los tipos de datos que usa panda los tipos de datos son\n",
    "\n",
    "*object = cadenas de texto (equivalente a string)\n",
    "*int64 = identificadores numericos que no se usan para calculos solo se reresentan como numeros enteros\n",
    "*float64 = es una cantidad monetaria y puede tener decimales\n",
    "*las fechas se deben de representar como datetime"
   ]
  },
  {
   "cell_type": "code",
   "execution_count": 8,
   "id": "10e41cdc",
   "metadata": {},
   "outputs": [
    {
     "name": "stdout",
     "output_type": "stream",
     "text": [
      "columnas de ventas:\n",
      "Index(['Sale_ID', 'Customer_ID', 'Sale_Amount', 'Sale_Date', 'Geography'], dtype='object')\n",
      " \n",
      "columnas de clientes:\n",
      "Index(['Customer_ID', 'Customer_Name', 'Customer_Age', 'Geography'], dtype='object')\n",
      " \n",
      "Tipo de datos de ventas: \n",
      "Sale_ID          int64\n",
      "Customer_ID      int64\n",
      "Sale_Amount    float64\n",
      "Sale_Date       object\n",
      "Geography       object\n",
      "dtype: object\n",
      " \n",
      "Tipo de datos de clientes: \n",
      "Customer_ID       int64\n",
      "Customer_Name    object\n",
      "Customer_Age      int64\n",
      "Geography        object\n",
      "dtype: object\n",
      " \n",
      "Valores null en tabla de ventas \n",
      "Sale_ID        0\n",
      "Customer_ID    0\n",
      "Sale_Amount    0\n",
      "Sale_Date      0\n",
      "Geography      0\n",
      "dtype: int64\n",
      " \n",
      "Valores null en tabla clientes \n",
      "Customer_ID      0\n",
      "Customer_Name    0\n",
      "Customer_Age     0\n",
      "Geography        0\n",
      "dtype: int64\n"
     ]
    }
   ],
   "source": [
    "#INCISO A\n",
    "#verificar integrida y consistencia \n",
    "\n",
    "#verificar nombres de las columnas\n",
    "print(\"columnas de ventas:\")\n",
    "print(ventas.columns)\n",
    "print(\" \")\n",
    "print(\"columnas de clientes:\")\n",
    "print(clientes.columns)\n",
    "print(\" \")\n",
    "\n",
    "#verificar tipos de datos\n",
    "print(\"Tipo de datos de ventas: \")\n",
    "print(ventas.dtypes)\n",
    "print(\" \")\n",
    "print(\"Tipo de datos de clientes: \")\n",
    "print(clientes.dtypes)\n",
    "print(\" \")\n",
    "\n",
    "#verificar si hay valores nulos\n",
    "print(\"Valores null en tabla de ventas \")\n",
    "print(ventas.isnull().sum())\n",
    "print(\" \")\n",
    "print(\"Valores null en tabla clientes \")\n",
    "print(clientes.isnull().sum())\n"
   ]
  },
  {
   "cell_type": "code",
   "execution_count": 9,
   "id": "bf5bbc5b",
   "metadata": {},
   "outputs": [
    {
     "name": "stdout",
     "output_type": "stream",
     "text": [
      "Sale_ID                 int64\n",
      "Customer_ID             int64\n",
      "Sale_Amount           float64\n",
      "Sale_Date      datetime64[ns]\n",
      "Geography              object\n",
      "dtype: object\n"
     ]
    }
   ],
   "source": [
    "#INCISO B\n",
    "#Conversion de tipos de datos incorrectos en columna fecha\n",
    "#conversion de tipo de dato object a datatime\n",
    "\n",
    "ventas[\"Sale_Date\"]= pd.to_datetime(ventas[\"Sale_Date\"])\n",
    "\n",
    "#verificacion que el tipo de dato es correcto\n",
    "print(ventas.dtypes)"
   ]
  },
  {
   "cell_type": "markdown",
   "id": "1dd12402",
   "metadata": {},
   "source": [
    "Realizar una busqueda para los valores atipicos que por lo general se dan en rangos de edad y montos de ventas muy elevados\n",
    "haremos la verificacion tambien en las fechas de compra para verificar bien el formato de datos"
   ]
  },
  {
   "cell_type": "code",
   "execution_count": 10,
   "id": "d8b75a73",
   "metadata": {},
   "outputs": [
    {
     "name": "stdout",
     "output_type": "stream",
     "text": [
      "Resumen de Importe de ventas\n",
      "count    1000.000000\n",
      "mean      253.532920\n",
      "std       142.291244\n",
      "min        10.510000\n",
      "25%       124.297500\n",
      "50%       258.190000\n",
      "75%       373.130000\n",
      "max       500.740000\n",
      "Name: Sale_Amount, dtype: float64\n",
      " \n",
      "Resumen de edad de cliente\n",
      "count    300.000000\n",
      "mean      42.210000\n",
      "std       14.535134\n",
      "min       18.000000\n",
      "25%       30.000000\n",
      "50%       42.000000\n",
      "75%       54.000000\n",
      "max       69.000000\n",
      "Name: Customer_Age, dtype: float64\n",
      " \n",
      "Resumen de fecha de venta\n",
      "count                          1000\n",
      "mean     2023-06-29 04:01:55.200000\n",
      "min             2023-01-01 00:00:00\n",
      "25%             2023-03-26 00:00:00\n",
      "50%             2023-06-26 00:00:00\n",
      "75%             2023-09-25 06:00:00\n",
      "max             2023-12-31 00:00:00\n",
      "Name: Sale_Date, dtype: object\n",
      " tipo de datos\n",
      "Sale_ID                 int64\n",
      "Customer_ID             int64\n",
      "Sale_Amount           float64\n",
      "Sale_Date      datetime64[ns]\n",
      "Geography              object\n",
      "dtype: object\n"
     ]
    }
   ],
   "source": [
    "#busqueda de valores atipicos la funcion describe() proporciona informacion commo min, max, media donde podemos ver valores atipicos\n",
    "\n",
    "print(\"Resumen de Importe de ventas\")\n",
    "print(ventas[\"Sale_Amount\"].describe())\n",
    "print(\" \")\n",
    "print(\"Resumen de edad de cliente\")\n",
    "print(clientes[\"Customer_Age\"].describe())\n",
    "print(\" \")\n",
    "print(\"Resumen de fecha de venta\")\n",
    "print(ventas[\"Sale_Date\"].describe())\n",
    "print(\" tipo de datos\")\n",
    "print(ventas.dtypes)"
   ]
  },
  {
   "cell_type": "code",
   "execution_count": 11,
   "id": "c5a74e8e",
   "metadata": {},
   "outputs": [
    {
     "name": "stdout",
     "output_type": "stream",
     "text": [
      "duplicados en ventas: 0\n",
      " \n",
      "Duplicados en clientes: 0\n"
     ]
    }
   ],
   "source": [
    "#Detectar si hay registros duplicados en ventas y en clientes\n",
    "duplicados_ventas = ventas.duplicated().sum()\n",
    "print(f\"duplicados en ventas: {duplicados_ventas}\")\n",
    "print(\" \")\n",
    "\n",
    "duplicados_clientes = clientes.duplicated().sum()\n",
    "print(f\"Duplicados en clientes: {duplicados_clientes}\")\n"
   ]
  },
  {
   "cell_type": "markdown",
   "id": "4f787201",
   "metadata": {},
   "source": [
    "como no hay duplicados en ventas, no rellenaremos ni eliminaremos valores faltantes\n",
    "\n",
    "metodos para rellenar espacios faltates\n",
    "\n",
    "*con la media\n",
    "ventas [\"Sale_Amount\"] = ventas[\"Sale_Amount\"].fillna([\"Sale_Amount\"].mean())\n",
    "\n",
    "*con un valor desconocido\n",
    "clientes[\"Geography\"]= clientes[\"Geography\"].fillna(\"Desconocido)\n",
    "\n",
    "*eliminar valores si son pocos y no importantes\n",
    "ventas = ventas.dropna()\n",
    "clientes= clientes.dropna()"
   ]
  },
  {
   "cell_type": "code",
   "execution_count": null,
   "id": "ee62223c",
   "metadata": {},
   "outputs": [
    {
     "name": "stdout",
     "output_type": "stream",
     "text": [
      "Index(['Sale_ID', 'Customer_ID', 'Sale_Amount', 'Sale_Date', 'Customer_Name',\n",
      "       'Customer_Age', 'Geography'],\n",
      "      dtype='object')\n"
     ]
    }
   ],
   "source": [
    "#INCISO C\n",
    "#relizar union de los dataframe (df_completo) para poder gaficar las ventas mensuales\n",
    "#realizamos la union de los dos datas frame conservando todos los registros de ventas y solo los de la izquierda que sean coincidientes\n",
    "#con Customer_ID\n",
    "df_completo =pd.merge(ventas,clientes, on=\"Customer_ID\", how=\"left\")\n",
    "\n",
    "#eliminar columna geography x si existe\n",
    "if \"Geography_x\" in df_completo.columns:\n",
    "    df_completo.drop(columns=[\"Geography_x\"], inplace=True)\n",
    "\n",
    "#renonmbrar Geografy_y\n",
    "if \"Geography_y\" in df_completo.columns:\n",
    "    df_completo.rename(columns={\"Geography_y\": \"Geography\"},inplace=True)\n",
    "\n",
    "print(df_completo.columns)\n",
    "\n",
    "#crear una columna por mes\n",
    "df_completo[\"Mes\"] = df_completo[\"Sale_Date\"].dt.to_period(\"M\")\n",
    "\n"
   ]
  },
  {
   "cell_type": "code",
   "execution_count": 22,
   "id": "3cbb1f82",
   "metadata": {},
   "outputs": [
    {
     "name": "stdout",
     "output_type": "stream",
     "text": [
      "Columnas disponibles\n",
      "Index(['Sale_ID', 'Customer_ID', 'Sale_Amount', 'Sale_Date', 'Customer_Name',\n",
      "       'Customer_Age', 'Geography', 'Mes'],\n",
      "      dtype='object')\n"
     ]
    }
   ],
   "source": [
    "#verificar el nombre de las columnas para que no haya errores\n",
    "print(\"Columnas disponibles\")\n",
    "print(df_completo.columns)"
   ]
  },
  {
   "cell_type": "code",
   "execution_count": null,
   "id": "a0dd2965",
   "metadata": {},
   "outputs": [
    {
     "name": "stdout",
     "output_type": "stream",
     "text": [
      " \n",
      "Ventas mensuales por region: \n",
      "       Mes Geography  Sale_Amount\n",
      "0  2023-01      East      6857.75\n",
      "1  2023-01     North      2757.83\n",
      "2  2023-01     South      4834.22\n",
      "3  2023-01      West      5756.37\n",
      "4  2023-02      East      4893.10\n"
     ]
    }
   ],
   "source": [
    "#agrupar ventas mensulaes por region\n",
    "ventas_por_region = df_completo.groupby([\"Mes\",\"Geography\"])[\"Sale_Amount\"].sum().reset_index()\n",
    "\n",
    "#mostrar tabla del resumen\n",
    "print(\" \")\n",
    "print(\"Ventas mensuales por region: \")\n",
    "print(ventas_por_region.head()) #visualizamos el dataframe para ver si es correcto y poder graficar\n"
   ]
  },
  {
   "cell_type": "code",
   "execution_count": null,
   "id": "ed2b6a71",
   "metadata": {},
   "outputs": [
    {
     "data": {
      "image/png": "[encoded data removed]",
      "text/plain": [
       "<Figure size 1000x700 with 1 Axes>"
      ]
     },
     "metadata": {},
     "output_type": "display_data"
    }
   ],
   "source": [
    "#visualizar la grafica\n",
    "\n",
    "plt.figure(figsize=(10, 7)) #configura el tamaño del grafico de barra en pulgadas\n",
    "sns.barplot(data=ventas_por_region, x='Mes', y='Sale_Amount', hue='Geography') #crea un grafico de barras, hue crea una barr por region\n",
    "\n",
    "plt.title('Ventas Mensuales por Región Geográfica') #titulo del grafico\n",
    "plt.xlabel('Mes') #titulo del eje x\n",
    "plt.ylabel('Monto de Ventas') #titulo del eje y\n",
    "plt.xticks(rotation=45) #rotacion de etiquetas mensuales para que no se encimen\n",
    "plt.legend(title='Región') #se asigna la leyenda de los indicadores de colores\n",
    "plt.tight_layout() #ajuste del diseño automatico para evitar que se corte el grafico\n",
    "plt.show()"
   ]
  }
 ],
 "metadata": {
  "kernelspec": {
   "display_name": ".venv",
   "language": "python",
   "name": "python3"
  },
  "language_info": {
   "codemirror_mode": {
    "name": "ipython",
    "version": 3
   },
   "file_extension": ".py",
   "mimetype": "text/x-python",
   "name": "python",
   "nbconvert_exporter": "python",
   "pygments_lexer": "ipython3",
   "version": "3.12.10"
  }
 },
 "nbformat": 4,
 "nbformat_minor": 5
}
